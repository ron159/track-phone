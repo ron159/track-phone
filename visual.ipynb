{
 "cells": [
  {
   "cell_type": "markdown",
   "metadata": {},
   "source": [
    "# 数据可视化"
   ]
  },
  {
   "cell_type": "markdown",
   "metadata": {},
   "source": [
    "## 导入数据"
   ]
  },
  {
   "cell_type": "code",
   "execution_count": 1,
   "metadata": {},
   "outputs": [],
   "source": [
    "import pandas as pd\n",
    "import numpy as np\n",
    "import seaborn as sns\n",
    "from matplotlib import pyplot as plt\n",
    "from matplotlib.font_manager import FontProperties\n",
    "zhfont = FontProperties(fname='/notebooks/xkcd/Muyao-Softbrush.ttf', size=16)"
   ]
  },
  {
   "cell_type": "code",
   "execution_count": 2,
   "metadata": {},
   "outputs": [
    {
     "name": "stdout",
     "output_type": "stream",
     "text": [
      "<class 'pandas.core.frame.DataFrame'>\n",
      "Int64Index: 19475 entries, 0 to 19509\n",
      "Data columns (total 10 columns):\n",
      " #   Column    Non-Null Count  Dtype  \n",
      "---  ------    --------------  -----  \n",
      " 0   day       19475 non-null  object \n",
      " 1   time      19475 non-null  object \n",
      " 2   domain    19475 non-null  object \n",
      " 3   ip        19475 non-null  object \n",
      " 4   port      19475 non-null  int64  \n",
      " 5   city_id   19475 non-null  float64\n",
      " 6   country   19475 non-null  object \n",
      " 7   province  19475 non-null  object \n",
      " 8   city      19475 non-null  object \n",
      " 9   operator  19475 non-null  object \n",
      "dtypes: float64(1), int64(1), object(8)\n",
      "memory usage: 1.6+ MB\n"
     ]
    }
   ],
   "source": [
    "df = pd.read_csv('./logs.csv')\n",
    "df = df.dropna(axis = 0, how ='any') \n",
    "df.info()"
   ]
  },
  {
   "cell_type": "markdown",
   "metadata": {},
   "source": [
    "## 生成数据"
   ]
  },
  {
   "cell_type": "code",
   "execution_count": 3,
   "metadata": {},
   "outputs": [],
   "source": [
    "out_dir = './data'"
   ]
  },
  {
   "cell_type": "markdown",
   "metadata": {},
   "source": [
    "### 国际分布"
   ]
  },
  {
   "cell_type": "code",
   "execution_count": 4,
   "metadata": {},
   "outputs": [
    {
     "data": {
      "text/plain": [
       "country\n",
       "中国      11975\n",
       "新加坡      3760\n",
       "美国       3406\n",
       "0         212\n",
       "荷兰         47\n",
       "德国         33\n",
       "俄罗斯        19\n",
       "日本         10\n",
       "韩国          5\n",
       "英国          4\n",
       "印度          1\n",
       "澳大利亚        1\n",
       "爱尔兰         1\n",
       "马来西亚        1\n",
       "Name: domain, dtype: int64"
      ]
     },
     "execution_count": 4,
     "metadata": {},
     "output_type": "execute_result"
    }
   ],
   "source": [
    "df_global = df.groupby(['country']).count().sort_values(['domain'], ascending=False)['domain']\n",
    "df_global"
   ]
  },
  {
   "cell_type": "code",
   "execution_count": 5,
   "metadata": {},
   "outputs": [
    {
     "data": {
      "text/plain": [
       "[('中国', 11975),\n",
       " ('新加坡', 3760),\n",
       " ('美国', 3406),\n",
       " ('0', 212),\n",
       " ('荷兰', 47),\n",
       " ('德国', 33),\n",
       " ('俄罗斯', 19),\n",
       " ('日本', 10),\n",
       " ('韩国', 5),\n",
       " ('英国', 4),\n",
       " ('印度', 1),\n",
       " ('澳大利亚', 1),\n",
       " ('爱尔兰', 1),\n",
       " ('马来西亚', 1)]"
      ]
     },
     "execution_count": 5,
     "metadata": {},
     "output_type": "execute_result"
    }
   ],
   "source": [
    "[items for items in df_global.iteritems()]"
   ]
  },
  {
   "cell_type": "markdown",
   "metadata": {},
   "source": [
    "### 国内分布\n",
    "中国各省分布情况"
   ]
  },
  {
   "cell_type": "code",
   "execution_count": 6,
   "metadata": {},
   "outputs": [],
   "source": [
    "china_province = ['北京', '天津', '上海', '重庆', '河南省', '安徽省', '福建省', '甘肃省', '贵州省', '海南省', '河北省', '黑龙江省', '湖北省', '湖南省', '吉林省', '江苏省','江西省', '辽宁省', '青海省', '山东省', '山西省', '陕西省', '四川省', '云南省', '浙江省', '台湾省', '台湾', '广东省', '广西壮族自治区', '内蒙古自治区', '宁夏回族自治区', '西藏藏族自治区', '新疆维吾尔自治区', '香港', '澳门']"
   ]
  },
  {
   "cell_type": "code",
   "execution_count": 7,
   "metadata": {},
   "outputs": [
    {
     "data": {
      "text/plain": [
       "[('四川省', 2869),\n",
       " ('北京', 2166),\n",
       " ('上海', 1861),\n",
       " ('重庆', 1840),\n",
       " ('广东省', 446),\n",
       " ('陕西省', 402),\n",
       " ('安徽省', 271),\n",
       " ('江苏省', 268),\n",
       " ('香港', 250),\n",
       " ('河北省', 198),\n",
       " ('天津', 105),\n",
       " ('河南省', 90),\n",
       " ('湖南省', 84),\n",
       " ('浙江省', 62),\n",
       " ('云南省', 46),\n",
       " ('辽宁省', 35),\n",
       " ('湖北省', 12),\n",
       " ('江西省', 8),\n",
       " ('吉林省', 6),\n",
       " ('福建省', 5),\n",
       " ('青海省', 5),\n",
       " ('甘肃省', 3),\n",
       " ('贵州省', 2),\n",
       " ('台湾省', 1)]"
      ]
     },
     "execution_count": 7,
     "metadata": {},
     "output_type": "execute_result"
    }
   ],
   "source": [
    "df_cn = df[df['province'].isin(china_province)]\n",
    "data_province = df_cn.groupby(['province']).count().sort_values(['domain'], ascending=False)['domain']\n",
    "\n",
    "[items for items in data_province.iteritems()]"
   ]
  },
  {
   "cell_type": "markdown",
   "metadata": {},
   "source": [
    "### 域名排行"
   ]
  },
  {
   "cell_type": "code",
   "execution_count": 8,
   "metadata": {},
   "outputs": [
    {
     "name": "stderr",
     "output_type": "stream",
     "text": [
      "<ipython-input-8-99a97aeb6f93>:22: SettingWithCopyWarning: \n",
      "A value is trying to be set on a copy of a slice from a DataFrame.\n",
      "Try using .loc[row_indexer,col_indexer] = value instead\n",
      "\n",
      "See the caveats in the documentation: https://pandas.pydata.org/pandas-docs/stable/user_guide/indexing.html#returning-a-view-versus-a-copy\n",
      "  df_company['company'] = df_company['domain'].map(lambda x: domain_root_name(x))\n"
     ]
    }
   ],
   "source": [
    "from IPy import IP\n",
    "def is_domain(domain):\n",
    "    try:\n",
    "        IP(domain)\n",
    "        return False\n",
    "    except Exception as _:\n",
    "        return True\n",
    "\n",
    "\n",
    "def domain_root_name(domain):\n",
    "    try:\n",
    "        arr = domain.split('.')\n",
    "        if len(arr) >= 2:\n",
    "            return '.'.join(arr[-2:])\n",
    "        else:\n",
    "            return domain\n",
    "    except Exception as err:\n",
    "        print('error, not a valid domain: {}'.format(str(err)))\n",
    "        return domain\n",
    "\n",
    "df_company = df[df['domain'].apply(lambda x: is_domain(x))]\n",
    "df_company['company'] = df_company['domain'].map(lambda x: domain_root_name(x))\n",
    "head_count = 15\n",
    "df_company_all = df_company.groupby(['company']).count().sort_values(['time'], ascending=False)['time']\n",
    "df_company_head = df_company_all.head(head_count)\n",
    "new_row = pd.Series([df_company_all[head_count:].sum()], index=['other'])\n",
    "df_company_rank = pd.concat([df_company_head, new_row])"
   ]
  },
  {
   "cell_type": "code",
   "execution_count": 9,
   "metadata": {
    "scrolled": true
   },
   "outputs": [
    {
     "data": {
      "text/plain": [
       "<AxesSubplot:ylabel='None'>"
      ]
     },
     "execution_count": 9,
     "metadata": {},
     "output_type": "execute_result"
    },
    {
     "data": {
      "image/png": "[encoded data removed]",
      "text/plain": [
       "<Figure size 648x648 with 1 Axes>"
      ]
     },
     "metadata": {},
     "output_type": "display_data"
    }
   ],
   "source": [
    "df_company_rank.plot(kind='pie', figsize = (9,9))"
   ]
  },
  {
   "cell_type": "code",
   "execution_count": 10,
   "metadata": {
    "scrolled": true
   },
   "outputs": [
    {
     "data": {
      "text/plain": [
       "[('google.com', 4496),\n",
       " ('sinaimg.cn', 2287),\n",
       " ('qq.com', 1719),\n",
       " ('ithome.com', 916),\n",
       " ('miui.com', 535),\n",
       " ('ggpht.com', 533),\n",
       " ('bilivideo.com', 492),\n",
       " ('weibo.cn', 443),\n",
       " ('ks-live.com', 405),\n",
       " ('googleapis.com', 374),\n",
       " ('biliapi.net', 358),\n",
       " ('coolapk.com', 339),\n",
       " ('ruanmei.com', 297),\n",
       " ('xiaomi.com', 247),\n",
       " ('mi-img.com', 230),\n",
       " ('other', 3521)]"
      ]
     },
     "execution_count": 10,
     "metadata": {},
     "output_type": "execute_result"
    }
   ],
   "source": [
    "[items for items in df_company_rank.iteritems()]"
   ]
  },
  {
   "cell_type": "code",
   "execution_count": 11,
   "metadata": {},
   "outputs": [
    {
     "data": {
      "text/plain": [
       "[('google', 4496),\n",
       " ('sinaimg', 2287),\n",
       " ('qq', 1719),\n",
       " ('ithome', 916),\n",
       " ('miui', 535),\n",
       " ('ggpht', 533),\n",
       " ('bilivideo', 492),\n",
       " ('weibo', 443),\n",
       " ('ks-live', 405),\n",
       " ('googleapis', 374),\n",
       " ('biliapi.net', 358),\n",
       " ('coolapk', 339),\n",
       " ('ruanmei', 297),\n",
       " ('xiaomi', 247),\n",
       " ('mi-img', 230),\n",
       " ('jd', 179),\n",
       " ('bilibili', 166),\n",
       " ('hdslb', 146),\n",
       " ('weibo', 123),\n",
       " ('facebook', 117),\n",
       " ('alicdn', 106),\n",
       " ('twitter', 104),\n",
       " ('googlevideo', 97),\n",
       " ('googleusercontent', 88),\n",
       " ('gstatic', 83),\n",
       " ('smzdm', 81),\n",
       " ('qpic', 81),\n",
       " ('xiaomi.net', 77),\n",
       " ('qlogo', 73),\n",
       " ('coding.net', 71),\n",
       " ('office365', 70),\n",
       " ('amap', 70),\n",
       " ('doubanio', 66),\n",
       " ('douban', 65),\n",
       " ('gtimg', 63),\n",
       " ('alipay', 62),\n",
       " ('microsoft', 60),\n",
       " ('aliyuncs', 55),\n",
       " ('appcenter.ms', 53),\n",
       " ('ksyun', 43),\n",
       " ('githubusercontent', 42),\n",
       " ('twimg', 39),\n",
       " ('live', 39),\n",
       " ('pstatp', 39),\n",
       " ('gvt2', 35),\n",
       " ('youtube', 34),\n",
       " ('qingmang.me', 33),\n",
       " ('tanx', 31),\n",
       " ('v2ex', 31),\n",
       " ('qingmang.mobi', 29),\n",
       " ('360buyimg', 28),\n",
       " ('akamaized.net', 28),\n",
       " ('taobao', 27),\n",
       " ('zuihuimai', 26),\n",
       " ('weibocdn', 25),\n",
       " ('windows', 23),\n",
       " ('bing', 23),\n",
       " ('baidu', 23),\n",
       " ('ytimg', 23),\n",
       " ('xn--ngstr-lra8j', 22),\n",
       " ('alipayobjects', 22),\n",
       " ('lapin365', 22),\n",
       " ('xiaoheihe', 20),\n",
       " ('bingapis', 20),\n",
       " ('yandex', 19),\n",
       " ('net.in', 19),\n",
       " ('githubassets', 16),\n",
       " ('msn', 15),\n",
       " ('google', 15),\n",
       " ('github', 15),\n",
       " ('podcastrepublic.net', 15),\n",
       " ('pangolin-sdk-toutiao-b', 14),\n",
       " ('msedge.net', 13),\n",
       " ('com', 12),\n",
       " ('co.uk', 12),\n",
       " ('mi', 12),\n",
       " ('163', 11),\n",
       " ('bigfun', 11),\n",
       " ('bigfunapp', 11),\n",
       " ('biligame', 11),\n",
       " ('mozilla', 10),\n",
       " ('cdninstagram', 10),\n",
       " ('max-c', 10),\n",
       " ('tradplus', 10),\n",
       " ('t.co', 10),\n",
       " ('mozilla.org', 9),\n",
       " ('idqqimg', 9),\n",
       " ('office', 9),\n",
       " ('instagram', 9),\n",
       " ('sspai', 9),\n",
       " ('url', 7),\n",
       " ('mit.edu', 7),\n",
       " ('servicewechat', 7),\n",
       " ('learnsolid', 7),\n",
       " ('quoracdn.net', 7),\n",
       " ('126.net', 7),\n",
       " ('blogspot', 7),\n",
       " ('bmob', 7),\n",
       " ('2dogz', 7),\n",
       " ('intercom', 7),\n",
       " ('edu', 6),\n",
       " ('techkoala.top', 6),\n",
       " ('intercom.io', 6),\n",
       " ('firefox', 6),\n",
       " ('zdmimg', 6),\n",
       " ('cloudorz', 5),\n",
       " ('winudf', 5),\n",
       " ('fbcdn.net', 5),\n",
       " ('digicert', 5),\n",
       " ('wikimedia.org', 5),\n",
       " ('sandai.net', 5),\n",
       " ('googleapis', 5),\n",
       " ('applovefrom', 5),\n",
       " ('wikipedia.org', 5),\n",
       " ('hihonor', 5),\n",
       " ('akamaihd.net', 5),\n",
       " ('xtracloud.net', 5),\n",
       " ('jsdelivr.net', 4),\n",
       " ('alipay', 4),\n",
       " ('facebook.net', 4),\n",
       " ('lizhi.fm', 4),\n",
       " ('xmcdn', 4),\n",
       " ('pureapk', 4),\n",
       " ('fontawesome', 4),\n",
       " ('onedrive', 4),\n",
       " ('outlookmobile', 4),\n",
       " ('quora', 3),\n",
       " ('maxjia', 3),\n",
       " ('speedtest.net', 3),\n",
       " ('steampowered', 3),\n",
       " ('storyfm', 3),\n",
       " ('amazonaws', 3),\n",
       " ('gvt1', 3),\n",
       " ('miaopai', 3),\n",
       " ('ximalaya', 3),\n",
       " ('myapp', 3),\n",
       " ('gtimg', 3),\n",
       " ('helpshift', 3),\n",
       " ('loli.net', 3),\n",
       " ('t.me', 2),\n",
       " ('telegram.org', 2),\n",
       " ('tencentcloudapi', 2),\n",
       " ('cl2009', 2),\n",
       " ('bootstrapcdn', 2),\n",
       " ('statuspage.io', 2),\n",
       " ('solidproject.org', 2),\n",
       " ('adblockplus.org', 2),\n",
       " ('sfx.ms', 2),\n",
       " ('frdic', 2),\n",
       " ('mmstat', 2),\n",
       " ('everviz', 2),\n",
       " ('netease', 2),\n",
       " ('jquery', 2),\n",
       " ('redditstatic', 2),\n",
       " ('netease.im', 2),\n",
       " ('fxltsbl', 2),\n",
       " ('geetest', 2),\n",
       " ('myqcloud', 2),\n",
       " ('windows.net', 1),\n",
       " ('gubo.org', 1),\n",
       " ('esdict', 1),\n",
       " ('myhuaweicloud', 1),\n",
       " ('mozilla.net', 1),\n",
       " ('mzstatic', 1),\n",
       " ('getpodcast.xyz', 1),\n",
       " ('blogger', 1),\n",
       " ('wlvpn', 1),\n",
       " ('castbox.fm', 1),\n",
       " ('modpim', 1),\n",
       " ('xiaoka.tv', 1),\n",
       " ('highcharts', 1),\n",
       " ('mirrormedia.mg', 1),\n",
       " ('imgur', 1),\n",
       " ('adobedtm', 1),\n",
       " ('jjldbk', 1),\n",
       " ('live.net', 1),\n",
       " ('youke.co', 1),\n",
       " ('300hu', 1),\n",
       " ('licdn', 1),\n",
       " ('v2ex.co', 1),\n",
       " ('cdnpure', 1),\n",
       " ('umeng', 1),\n",
       " ('typlog.io', 1),\n",
       " ('justpodmedia', 1),\n",
       " ('duckduckgo', 1),\n",
       " ('sinastorage', 1),\n",
       " ('skype', 1),\n",
       " ('quickapp', 1),\n",
       " ('qiyukf', 1),\n",
       " ('soundon.fm', 1),\n",
       " ('fireside.fm', 1),\n",
       " ('crazy.capital', 1),\n",
       " ('fmit', 1),\n",
       " ('pythonhunter.org', 1),\n",
       " ('polyfill.io', 1),\n",
       " ('swift.gg', 1),\n",
       " ('coolapkmarket', 1),\n",
       " ('tangsuanradio', 1),\n",
       " ('pglstatp-toutiao', 1),\n",
       " ('cloudflare', 1),\n",
       " ('fyre.co', 1),\n",
       " ('telesco.pe', 1),\n",
       " ('tencentcs', 1),\n",
       " ('tinypass', 1),\n",
       " ('trafficmanager.net', 1),\n",
       " ('cdn-go', 1),\n",
       " ('kaolafm', 1)]"
      ]
     },
     "execution_count": 11,
     "metadata": {},
     "output_type": "execute_result"
    }
   ],
   "source": [
    "data_company_cloud = []\n",
    "for item in df_company_all.iteritems():\n",
    "    name = item[0]\n",
    "    name = name.replace('.com', '')\n",
    "    name = name.replace('.cn', '')\n",
    "    num = item[1]\n",
    "    data_company_cloud.append((name, num))\n",
    "    \n",
    "data_company_cloud"
   ]
  },
  {
   "cell_type": "markdown",
   "metadata": {},
   "source": [
    "### 使用端口排行"
   ]
  },
  {
   "cell_type": "code",
   "execution_count": 12,
   "metadata": {
    "scrolled": true
   },
   "outputs": [
    {
     "data": {
      "text/plain": [
       "<AxesSubplot:ylabel='None'>"
      ]
     },
     "execution_count": 12,
     "metadata": {},
     "output_type": "execute_result"
    },
    {
     "data": {
      "image/png": "[encoded data removed]",
      "text/plain": [
       "<Figure size 576x576 with 1 Axes>"
      ]
     },
     "metadata": {},
     "output_type": "display_data"
    }
   ],
   "source": [
    "head_count = 15\n",
    "df_port_all = df.groupby(['port']).count().sort_values(['time'], ascending=False)['time']\n",
    "df_port_head = df_port_all.head(head_count)\n",
    "\n",
    "new_row = pd.Series([df_port_all[head_count:].sum()], index=['other'])\n",
    "\n",
    "vis_data_ports = pd.concat([df_port_head, new_row])\n",
    "vis_data_ports.plot(kind='pie', figsize = (8,8))"
   ]
  },
  {
   "cell_type": "code",
   "execution_count": 13,
   "metadata": {},
   "outputs": [
    {
     "data": {
      "text/plain": [
       "[(443, 14824),\n",
       " (80, 3874),\n",
       " (8080, 119),\n",
       " (53, 105),\n",
       " (5353, 103),\n",
       " (5222, 89),\n",
       " (1900, 77),\n",
       " (4480, 61),\n",
       " (5228, 40),\n",
       " (6537, 28),\n",
       " (123, 27),\n",
       " (7824, 23),\n",
       " (993, 16),\n",
       " (137, 15),\n",
       " (8000, 11),\n",
       " ('other', 63)]"
      ]
     },
     "execution_count": 13,
     "metadata": {},
     "output_type": "execute_result"
    }
   ],
   "source": [
    "[items for items in vis_data_ports.iteritems()]"
   ]
  },
  {
   "cell_type": "markdown",
   "metadata": {},
   "source": [
    "### 在晚上谁最活跃"
   ]
  },
  {
   "cell_type": "code",
   "execution_count": null,
   "metadata": {},
   "outputs": [],
   "source": []
  },
  {
   "cell_type": "code",
   "execution_count": null,
   "metadata": {},
   "outputs": [],
   "source": []
  },
  {
   "cell_type": "code",
   "execution_count": 18,
   "metadata": {},
   "outputs": [
    {
     "data": {
      "text/plain": [
       "<AxesSubplot:xlabel='company'>"
      ]
     },
     "execution_count": 18,
     "metadata": {},
     "output_type": "execute_result"
    },
    {
     "data": {
      "image/png": "[encoded data removed]",
      "text/plain": [
       "<Figure size 432x288 with 1 Axes>"
      ]
     },
     "metadata": {
      "needs_background": "light"
     },
     "output_type": "display_data"
    }
   ],
   "source": [
    "def is_night(time_stamp):\n",
    "    night = (17, 23)\n",
    "    arr = time_stamp.split(':')\n",
    "    hour = int(arr[0])\n",
    "    return night[0] < hour < night[1]\n",
    "\n",
    "df_night = df_company[df_company['time'].apply(lambda x: is_night(x))]\n",
    "df_night.groupby(['company']).count().sort_values(['time'], ascending=False)['time'][1:].plot(kind='bar')"
   ]
  },
  {
   "cell_type": "code",
   "execution_count": 19,
   "metadata": {},
   "outputs": [
    {
     "data": {
      "text/plain": [
       "[('ithome.com', 40),\n",
       " ('ks-live.com', 30),\n",
       " ('googleapis.com', 21),\n",
       " ('jd.com', 20),\n",
       " ('miui.com', 16),\n",
       " ('githubusercontent.com', 15),\n",
       " ('google.com', 14),\n",
       " ('ruanmei.com', 13),\n",
       " ('github.com', 12),\n",
       " ('360buyimg.com', 9),\n",
       " ('biliapi.net', 8),\n",
       " ('xiaomi.com', 8),\n",
       " ('gstatic.com', 8),\n",
       " ('bilibili.com', 5),\n",
       " ('googleusercontent.com', 4),\n",
       " ('pstatp.com', 3),\n",
       " ('xiaomi.net', 3),\n",
       " ('microsoft.com', 3),\n",
       " ('mi-img.com', 3),\n",
       " ('xn--ngstr-lra8j.com', 3),\n",
       " ('ksyun.com', 3),\n",
       " ('aliyuncs.com', 3),\n",
       " ('telegram.org', 2),\n",
       " ('appcenter.ms', 2),\n",
       " ('baidu.com', 2),\n",
       " ('windows.com', 2),\n",
       " ('net.in', 2),\n",
       " ('facebook.com', 2),\n",
       " ('bingapis.com', 2),\n",
       " ('lapin365.com', 2)]"
      ]
     },
     "execution_count": 19,
     "metadata": {},
     "output_type": "execute_result"
    }
   ],
   "source": [
    "df_night_head = df_night.groupby(['company']).count().sort_values(['time'], ascending=False)['time'][1:].head(30)\n",
    "\n",
    "[items for items in df_night_head.iteritems()]"
   ]
  },
  {
   "cell_type": "markdown",
   "metadata": {},
   "source": [
    "### 每日请求数量"
   ]
  },
  {
   "cell_type": "code",
   "execution_count": 16,
   "metadata": {},
   "outputs": [
    {
     "data": {
      "text/plain": [
       "<AxesSubplot:title={'center':'daily request sum'}, xlabel='day'>"
      ]
     },
     "execution_count": 16,
     "metadata": {},
     "output_type": "execute_result"
    },
    {
     "data": {
      "image/png": "[encoded data removed]",
      "text/plain": [
       "<Figure size 432x288 with 1 Axes>"
      ]
     },
     "metadata": {
      "needs_background": "light"
     },
     "output_type": "display_data"
    }
   ],
   "source": [
    "## 柱状图，每日请求数量\n",
    "df.groupby(['day']).count()['domain'].plot(kind='bar', color='b', title='daily request sum', rot=-30)"
   ]
  },
  {
   "cell_type": "markdown",
   "metadata": {},
   "source": [
    "### 运营商分布"
   ]
  },
  {
   "cell_type": "code",
   "execution_count": 17,
   "metadata": {
    "scrolled": true
   },
   "outputs": [
    {
     "data": {
      "text/plain": [
       "[('移动', 9446),\n",
       " ('谷歌', 5777),\n",
       " ('电信', 439),\n",
       " ('微软', 314),\n",
       " ('0', 312),\n",
       " ('阿卡迈', 184),\n",
       " ('阿里云', 181),\n",
       " ('脸书', 145),\n",
       " ('阿里巴巴', 120),\n",
       " ('联通', 103),\n",
       " ('亚马逊', 80),\n",
       " ('Fastly', 58),\n",
       " ('铁通', 15),\n",
       " ('教育网', 6),\n",
       " ('威瑞森', 5),\n",
       " ('科进', 3),\n",
       " ('腾讯', 2),\n",
       " ('层峰网络', 1),\n",
       " ('内网IP', 1)]"
      ]
     },
     "execution_count": 17,
     "metadata": {},
     "output_type": "execute_result"
    }
   ],
   "source": [
    "data_vis_operator = df_company.groupby(['operator']).count().sort_values(['time'], ascending=False)['time']\n",
    "[items for items in data_vis_operator.iteritems()]"
   ]
  },
  {
   "cell_type": "code",
   "execution_count": null,
   "metadata": {},
   "outputs": [],
   "source": []
  },
  {
   "cell_type": "code",
   "execution_count": null,
   "metadata": {},
   "outputs": [],
   "source": []
  }
 ],
 "metadata": {
  "kernelspec": {
   "display_name": "Python 3",
   "language": "python",
   "name": "python3"
  },
  "language_info": {
   "codemirror_mode": {
    "name": "ipython",
    "version": 3
   },
   "file_extension": ".py",
   "mimetype": "text/x-python",
   "name": "python",
   "nbconvert_exporter": "python",
   "pygments_lexer": "ipython3",
   "version": "3.9.1"
  },
  "toc": {
   "base_numbering": 1,
   "nav_menu": {},
   "number_sections": true,
   "sideBar": true,
   "skip_h1_title": false,
   "title_cell": "Table of Contents",
   "title_sidebar": "Contents",
   "toc_cell": false,
   "toc_position": {},
   "toc_section_display": true,
   "toc_window_display": false
  }
 },
 "nbformat": 4,
 "nbformat_minor": 2
}
